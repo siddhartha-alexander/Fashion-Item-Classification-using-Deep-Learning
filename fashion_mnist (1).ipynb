{
  "nbformat": 4,
  "nbformat_minor": 0,
  "metadata": {
    "colab": {
      "provenance": []
    },
    "kernelspec": {
      "name": "python3",
      "display_name": "Python 3"
    },
    "language_info": {
      "name": "python"
    }
  },
  "cells": [
    {
      "cell_type": "code",
      "execution_count": null,
      "metadata": {
        "id": "rr9cIEdH5G37"
      },
      "outputs": [],
      "source": [
        "maxleimport matplotlib.pyplot as plt\n",
        "import pandas as pd\n",
        "import numpy as np\n",
        "import tensorflow as tf\n",
        "from tensorflow import keras\n",
        "from tensorflow.keras import layers,models,callbacks"
      ]
    },
    {
      "cell_type": "code",
      "source": [
        "(train_images,train_labels),(test_images,test_labels)=tf.keras.datasets.fashion_mnist.load_data()"
      ],
      "metadata": {
        "id": "Bxk2i-8U5f3t"
      },
      "execution_count": null,
      "outputs": []
    },
    {
      "cell_type": "code",
      "source": [
        "train_images"
      ],
      "metadata": {
        "colab": {
          "base_uri": "https://localhost:8080/"
        },
        "id": "1K4pa7zT6tmq",
        "outputId": "0bdf146e-5e90-4b62-88ef-fa924cb9742c"
      },
      "execution_count": null,
      "outputs": [
        {
          "output_type": "execute_result",
          "data": {
            "text/plain": [
              "array([[[0, 0, 0, ..., 0, 0, 0],\n",
              "        [0, 0, 0, ..., 0, 0, 0],\n",
              "        [0, 0, 0, ..., 0, 0, 0],\n",
              "        ...,\n",
              "        [0, 0, 0, ..., 0, 0, 0],\n",
              "        [0, 0, 0, ..., 0, 0, 0],\n",
              "        [0, 0, 0, ..., 0, 0, 0]],\n",
              "\n",
              "       [[0, 0, 0, ..., 0, 0, 0],\n",
              "        [0, 0, 0, ..., 0, 0, 0],\n",
              "        [0, 0, 0, ..., 0, 0, 0],\n",
              "        ...,\n",
              "        [0, 0, 0, ..., 0, 0, 0],\n",
              "        [0, 0, 0, ..., 0, 0, 0],\n",
              "        [0, 0, 0, ..., 0, 0, 0]],\n",
              "\n",
              "       [[0, 0, 0, ..., 0, 0, 0],\n",
              "        [0, 0, 0, ..., 0, 0, 0],\n",
              "        [0, 0, 0, ..., 0, 0, 0],\n",
              "        ...,\n",
              "        [0, 0, 0, ..., 0, 0, 0],\n",
              "        [0, 0, 0, ..., 0, 0, 0],\n",
              "        [0, 0, 0, ..., 0, 0, 0]],\n",
              "\n",
              "       ...,\n",
              "\n",
              "       [[0, 0, 0, ..., 0, 0, 0],\n",
              "        [0, 0, 0, ..., 0, 0, 0],\n",
              "        [0, 0, 0, ..., 0, 0, 0],\n",
              "        ...,\n",
              "        [0, 0, 0, ..., 0, 0, 0],\n",
              "        [0, 0, 0, ..., 0, 0, 0],\n",
              "        [0, 0, 0, ..., 0, 0, 0]],\n",
              "\n",
              "       [[0, 0, 0, ..., 0, 0, 0],\n",
              "        [0, 0, 0, ..., 0, 0, 0],\n",
              "        [0, 0, 0, ..., 0, 0, 0],\n",
              "        ...,\n",
              "        [0, 0, 0, ..., 0, 0, 0],\n",
              "        [0, 0, 0, ..., 0, 0, 0],\n",
              "        [0, 0, 0, ..., 0, 0, 0]],\n",
              "\n",
              "       [[0, 0, 0, ..., 0, 0, 0],\n",
              "        [0, 0, 0, ..., 0, 0, 0],\n",
              "        [0, 0, 0, ..., 0, 0, 0],\n",
              "        ...,\n",
              "        [0, 0, 0, ..., 0, 0, 0],\n",
              "        [0, 0, 0, ..., 0, 0, 0],\n",
              "        [0, 0, 0, ..., 0, 0, 0]]], dtype=uint8)"
            ]
          },
          "metadata": {},
          "execution_count": 63
        }
      ]
    },
    {
      "cell_type": "code",
      "source": [
        "len(train_images)"
      ],
      "metadata": {
        "colab": {
          "base_uri": "https://localhost:8080/"
        },
        "id": "sfHAkdrN6v5F",
        "outputId": "0306e5e9-a351-43ec-f390-a0fb3eb02535"
      },
      "execution_count": null,
      "outputs": [
        {
          "output_type": "execute_result",
          "data": {
            "text/plain": [
              "60000"
            ]
          },
          "metadata": {},
          "execution_count": 64
        }
      ]
    },
    {
      "cell_type": "code",
      "source": [
        "len(test_images)"
      ],
      "metadata": {
        "colab": {
          "base_uri": "https://localhost:8080/"
        },
        "id": "0NFR1t4b68OO",
        "outputId": "0ab6fb66-28de-493b-c97d-11908b189991"
      },
      "execution_count": null,
      "outputs": [
        {
          "output_type": "execute_result",
          "data": {
            "text/plain": [
              "10000"
            ]
          },
          "metadata": {},
          "execution_count": 65
        }
      ]
    },
    {
      "cell_type": "code",
      "source": [
        "#normalizing\n",
        "train_images=train_images.astype('float32')/255\n",
        "test_images=test_images.astype('float32')/255"
      ],
      "metadata": {
        "id": "7tpY4ESX6-kT"
      },
      "execution_count": null,
      "outputs": []
    },
    {
      "cell_type": "code",
      "source": [
        "train_images"
      ],
      "metadata": {
        "colab": {
          "base_uri": "https://localhost:8080/"
        },
        "id": "qzduvoMc7giq",
        "outputId": "977b5fb0-19de-45af-f079-e507cbace342"
      },
      "execution_count": null,
      "outputs": [
        {
          "output_type": "execute_result",
          "data": {
            "text/plain": [
              "array([[[0., 0., 0., ..., 0., 0., 0.],\n",
              "        [0., 0., 0., ..., 0., 0., 0.],\n",
              "        [0., 0., 0., ..., 0., 0., 0.],\n",
              "        ...,\n",
              "        [0., 0., 0., ..., 0., 0., 0.],\n",
              "        [0., 0., 0., ..., 0., 0., 0.],\n",
              "        [0., 0., 0., ..., 0., 0., 0.]],\n",
              "\n",
              "       [[0., 0., 0., ..., 0., 0., 0.],\n",
              "        [0., 0., 0., ..., 0., 0., 0.],\n",
              "        [0., 0., 0., ..., 0., 0., 0.],\n",
              "        ...,\n",
              "        [0., 0., 0., ..., 0., 0., 0.],\n",
              "        [0., 0., 0., ..., 0., 0., 0.],\n",
              "        [0., 0., 0., ..., 0., 0., 0.]],\n",
              "\n",
              "       [[0., 0., 0., ..., 0., 0., 0.],\n",
              "        [0., 0., 0., ..., 0., 0., 0.],\n",
              "        [0., 0., 0., ..., 0., 0., 0.],\n",
              "        ...,\n",
              "        [0., 0., 0., ..., 0., 0., 0.],\n",
              "        [0., 0., 0., ..., 0., 0., 0.],\n",
              "        [0., 0., 0., ..., 0., 0., 0.]],\n",
              "\n",
              "       ...,\n",
              "\n",
              "       [[0., 0., 0., ..., 0., 0., 0.],\n",
              "        [0., 0., 0., ..., 0., 0., 0.],\n",
              "        [0., 0., 0., ..., 0., 0., 0.],\n",
              "        ...,\n",
              "        [0., 0., 0., ..., 0., 0., 0.],\n",
              "        [0., 0., 0., ..., 0., 0., 0.],\n",
              "        [0., 0., 0., ..., 0., 0., 0.]],\n",
              "\n",
              "       [[0., 0., 0., ..., 0., 0., 0.],\n",
              "        [0., 0., 0., ..., 0., 0., 0.],\n",
              "        [0., 0., 0., ..., 0., 0., 0.],\n",
              "        ...,\n",
              "        [0., 0., 0., ..., 0., 0., 0.],\n",
              "        [0., 0., 0., ..., 0., 0., 0.],\n",
              "        [0., 0., 0., ..., 0., 0., 0.]],\n",
              "\n",
              "       [[0., 0., 0., ..., 0., 0., 0.],\n",
              "        [0., 0., 0., ..., 0., 0., 0.],\n",
              "        [0., 0., 0., ..., 0., 0., 0.],\n",
              "        ...,\n",
              "        [0., 0., 0., ..., 0., 0., 0.],\n",
              "        [0., 0., 0., ..., 0., 0., 0.],\n",
              "        [0., 0., 0., ..., 0., 0., 0.]]], dtype=float32)"
            ]
          },
          "metadata": {},
          "execution_count": 67
        }
      ]
    },
    {
      "cell_type": "code",
      "source": [
        "plt.figure(figsize=(5,5))\n",
        "for i in range(10):\n",
        "  plt.subplot(5,5,i+1)\n",
        "  img=train_images[i].reshape(28,28)\n",
        "  plt.imshow(img,cmap='grey')\n",
        "  plt.axis('off')\n",
        "plt.tight_layout()"
      ],
      "metadata": {
        "colab": {
          "base_uri": "https://localhost:8080/",
          "height": 215
        },
        "id": "vjIaZLcM7quW",
        "outputId": "cb4378c1-2765-4879-af66-25798f51df12"
      },
      "execution_count": null,
      "outputs": [
        {
          "output_type": "display_data",
          "data": {
            "text/plain": [
              "<Figure size 500x500 with 10 Axes>"
            ],
            "image/png": "[encoded data removed]"
          },
          "metadata": {}
        }
      ]
    },
    {
      "cell_type": "code",
      "source": [
        "#channel reshaping\n",
        "train_images=train_images.reshape(-1,28,28,1)\n",
        "test_images=test_images.reshape(-1,28,28,1)"
      ],
      "metadata": {
        "id": "FRUqhFHb8ejs"
      },
      "execution_count": null,
      "outputs": []
    },
    {
      "cell_type": "code",
      "source": [
        "train_images"
      ],
      "metadata": {
        "colab": {
          "base_uri": "https://localhost:8080/"
        },
        "id": "6I_5nDiS8yb5",
        "outputId": "ae42f52d-dbf0-4ea8-bb36-3e51e37ed9d4"
      },
      "execution_count": null,
      "outputs": [
        {
          "output_type": "execute_result",
          "data": {
            "text/plain": [
              "array([[[[0.],\n",
              "         [0.],\n",
              "         [0.],\n",
              "         ...,\n",
              "         [0.],\n",
              "         [0.],\n",
              "         [0.]],\n",
              "\n",
              "        [[0.],\n",
              "         [0.],\n",
              "         [0.],\n",
              "         ...,\n",
              "         [0.],\n",
              "         [0.],\n",
              "         [0.]],\n",
              "\n",
              "        [[0.],\n",
              "         [0.],\n",
              "         [0.],\n",
              "         ...,\n",
              "         [0.],\n",
              "         [0.],\n",
              "         [0.]],\n",
              "\n",
              "        ...,\n",
              "\n",
              "        [[0.],\n",
              "         [0.],\n",
              "         [0.],\n",
              "         ...,\n",
              "         [0.],\n",
              "         [0.],\n",
              "         [0.]],\n",
              "\n",
              "        [[0.],\n",
              "         [0.],\n",
              "         [0.],\n",
              "         ...,\n",
              "         [0.],\n",
              "         [0.],\n",
              "         [0.]],\n",
              "\n",
              "        [[0.],\n",
              "         [0.],\n",
              "         [0.],\n",
              "         ...,\n",
              "         [0.],\n",
              "         [0.],\n",
              "         [0.]]],\n",
              "\n",
              "\n",
              "       [[[0.],\n",
              "         [0.],\n",
              "         [0.],\n",
              "         ...,\n",
              "         [0.],\n",
              "         [0.],\n",
              "         [0.]],\n",
              "\n",
              "        [[0.],\n",
              "         [0.],\n",
              "         [0.],\n",
              "         ...,\n",
              "         [0.],\n",
              "         [0.],\n",
              "         [0.]],\n",
              "\n",
              "        [[0.],\n",
              "         [0.],\n",
              "         [0.],\n",
              "         ...,\n",
              "         [0.],\n",
              "         [0.],\n",
              "         [0.]],\n",
              "\n",
              "        ...,\n",
              "\n",
              "        [[0.],\n",
              "         [0.],\n",
              "         [0.],\n",
              "         ...,\n",
              "         [0.],\n",
              "         [0.],\n",
              "         [0.]],\n",
              "\n",
              "        [[0.],\n",
              "         [0.],\n",
              "         [0.],\n",
              "         ...,\n",
              "         [0.],\n",
              "         [0.],\n",
              "         [0.]],\n",
              "\n",
              "        [[0.],\n",
              "         [0.],\n",
              "         [0.],\n",
              "         ...,\n",
              "         [0.],\n",
              "         [0.],\n",
              "         [0.]]],\n",
              "\n",
              "\n",
              "       [[[0.],\n",
              "         [0.],\n",
              "         [0.],\n",
              "         ...,\n",
              "         [0.],\n",
              "         [0.],\n",
              "         [0.]],\n",
              "\n",
              "        [[0.],\n",
              "         [0.],\n",
              "         [0.],\n",
              "         ...,\n",
              "         [0.],\n",
              "         [0.],\n",
              "         [0.]],\n",
              "\n",
              "        [[0.],\n",
              "         [0.],\n",
              "         [0.],\n",
              "         ...,\n",
              "         [0.],\n",
              "         [0.],\n",
              "         [0.]],\n",
              "\n",
              "        ...,\n",
              "\n",
              "        [[0.],\n",
              "         [0.],\n",
              "         [0.],\n",
              "         ...,\n",
              "         [0.],\n",
              "         [0.],\n",
              "         [0.]],\n",
              "\n",
              "        [[0.],\n",
              "         [0.],\n",
              "         [0.],\n",
              "         ...,\n",
              "         [0.],\n",
              "         [0.],\n",
              "         [0.]],\n",
              "\n",
              "        [[0.],\n",
              "         [0.],\n",
              "         [0.],\n",
              "         ...,\n",
              "         [0.],\n",
              "         [0.],\n",
              "         [0.]]],\n",
              "\n",
              "\n",
              "       ...,\n",
              "\n",
              "\n",
              "       [[[0.],\n",
              "         [0.],\n",
              "         [0.],\n",
              "         ...,\n",
              "         [0.],\n",
              "         [0.],\n",
              "         [0.]],\n",
              "\n",
              "        [[0.],\n",
              "         [0.],\n",
              "         [0.],\n",
              "         ...,\n",
              "         [0.],\n",
              "         [0.],\n",
              "         [0.]],\n",
              "\n",
              "        [[0.],\n",
              "         [0.],\n",
              "         [0.],\n",
              "         ...,\n",
              "         [0.],\n",
              "         [0.],\n",
              "         [0.]],\n",
              "\n",
              "        ...,\n",
              "\n",
              "        [[0.],\n",
              "         [0.],\n",
              "         [0.],\n",
              "         ...,\n",
              "         [0.],\n",
              "         [0.],\n",
              "         [0.]],\n",
              "\n",
              "        [[0.],\n",
              "         [0.],\n",
              "         [0.],\n",
              "         ...,\n",
              "         [0.],\n",
              "         [0.],\n",
              "         [0.]],\n",
              "\n",
              "        [[0.],\n",
              "         [0.],\n",
              "         [0.],\n",
              "         ...,\n",
              "         [0.],\n",
              "         [0.],\n",
              "         [0.]]],\n",
              "\n",
              "\n",
              "       [[[0.],\n",
              "         [0.],\n",
              "         [0.],\n",
              "         ...,\n",
              "         [0.],\n",
              "         [0.],\n",
              "         [0.]],\n",
              "\n",
              "        [[0.],\n",
              "         [0.],\n",
              "         [0.],\n",
              "         ...,\n",
              "         [0.],\n",
              "         [0.],\n",
              "         [0.]],\n",
              "\n",
              "        [[0.],\n",
              "         [0.],\n",
              "         [0.],\n",
              "         ...,\n",
              "         [0.],\n",
              "         [0.],\n",
              "         [0.]],\n",
              "\n",
              "        ...,\n",
              "\n",
              "        [[0.],\n",
              "         [0.],\n",
              "         [0.],\n",
              "         ...,\n",
              "         [0.],\n",
              "         [0.],\n",
              "         [0.]],\n",
              "\n",
              "        [[0.],\n",
              "         [0.],\n",
              "         [0.],\n",
              "         ...,\n",
              "         [0.],\n",
              "         [0.],\n",
              "         [0.]],\n",
              "\n",
              "        [[0.],\n",
              "         [0.],\n",
              "         [0.],\n",
              "         ...,\n",
              "         [0.],\n",
              "         [0.],\n",
              "         [0.]]],\n",
              "\n",
              "\n",
              "       [[[0.],\n",
              "         [0.],\n",
              "         [0.],\n",
              "         ...,\n",
              "         [0.],\n",
              "         [0.],\n",
              "         [0.]],\n",
              "\n",
              "        [[0.],\n",
              "         [0.],\n",
              "         [0.],\n",
              "         ...,\n",
              "         [0.],\n",
              "         [0.],\n",
              "         [0.]],\n",
              "\n",
              "        [[0.],\n",
              "         [0.],\n",
              "         [0.],\n",
              "         ...,\n",
              "         [0.],\n",
              "         [0.],\n",
              "         [0.]],\n",
              "\n",
              "        ...,\n",
              "\n",
              "        [[0.],\n",
              "         [0.],\n",
              "         [0.],\n",
              "         ...,\n",
              "         [0.],\n",
              "         [0.],\n",
              "         [0.]],\n",
              "\n",
              "        [[0.],\n",
              "         [0.],\n",
              "         [0.],\n",
              "         ...,\n",
              "         [0.],\n",
              "         [0.],\n",
              "         [0.]],\n",
              "\n",
              "        [[0.],\n",
              "         [0.],\n",
              "         [0.],\n",
              "         ...,\n",
              "         [0.],\n",
              "         [0.],\n",
              "         [0.]]]], dtype=float32)"
            ]
          },
          "metadata": {},
          "execution_count": 70
        }
      ]
    },
    {
      "cell_type": "code",
      "source": [
        "data_augmentation=tf.keras.Sequential([\n",
        "    layers.RandomRotation(0.1),\n",
        "    layers.RandomZoom(0.1)\n",
        "])"
      ],
      "metadata": {
        "id": "P7hUN6238zww"
      },
      "execution_count": null,
      "outputs": []
    },
    {
      "cell_type": "code",
      "source": [
        "#one hot encoding\n",
        "train_labels=tf.keras.utils.to_categorical(train_labels)\n",
        "test_labels=tf.keras.utils.to_categorical(test_labels)"
      ],
      "metadata": {
        "id": "wls5-u2G9X3P"
      },
      "execution_count": null,
      "outputs": []
    },
    {
      "cell_type": "code",
      "source": [
        "train_labels"
      ],
      "metadata": {
        "colab": {
          "base_uri": "https://localhost:8080/"
        },
        "id": "5TO9oclp9oDm",
        "outputId": "229ff410-b9bc-4e79-c3ec-924c59b4efe4"
      },
      "execution_count": null,
      "outputs": [
        {
          "output_type": "execute_result",
          "data": {
            "text/plain": [
              "array([[0., 0., 0., ..., 0., 0., 1.],\n",
              "       [1., 0., 0., ..., 0., 0., 0.],\n",
              "       [1., 0., 0., ..., 0., 0., 0.],\n",
              "       ...,\n",
              "       [0., 0., 0., ..., 0., 0., 0.],\n",
              "       [1., 0., 0., ..., 0., 0., 0.],\n",
              "       [0., 0., 0., ..., 0., 0., 0.]])"
            ]
          },
          "metadata": {},
          "execution_count": 73
        }
      ]
    },
    {
      "cell_type": "code",
      "source": [
        "def create_model():\n",
        "  model=models.Sequential([\n",
        "      layers.Conv2D(32,(3,3),activation='relu',input_shape=(28,28,1)),\n",
        "      layers.BatchNormalization(),\n",
        "      layers.MaxPooling2D((2,2)),\n",
        "\n",
        "      layers.Conv2D(64,(3,3),activation='relu'),\n",
        "      layers.BatchNormalization(),\n",
        "      layers.MaxPooling2D((2,2)),\n",
        "\n",
        "      layers.Conv2D(64,(3,3),activation='relu'),\n",
        "      layers.BatchNormalization(),\n",
        "\n",
        "      layers.Flatten(),\n",
        "\n",
        "      layers.Dense(128,activation='relu'),\n",
        "      layers.Dense(64,activation='relu'),\n",
        "      layers.Dropout(0.3),\n",
        "      layers.Dense(10,activation='softmax')\n",
        "\n",
        "      ])\n",
        "  return model"
      ],
      "metadata": {
        "id": "G1huxGhL9pN_"
      },
      "execution_count": null,
      "outputs": []
    },
    {
      "cell_type": "code",
      "source": [
        "model=create_model()"
      ],
      "metadata": {
        "id": "sCFkJjPc_ZyE"
      },
      "execution_count": null,
      "outputs": []
    },
    {
      "cell_type": "code",
      "source": [
        "model.compile(optimizer='adam',loss='categorical_crossentropy',metrics=['accuracy'],)"
      ],
      "metadata": {
        "id": "fNO7is5H_b7l"
      },
      "execution_count": null,
      "outputs": []
    },
    {
      "cell_type": "code",
      "source": [
        "#call backs\n",
        "early_stopping=callbacks.EarlyStopping(patience=3,restore_best_weights=True)\n",
        "reducelr=callbacks.ReduceLROnPlateau(factor=0.2,patience=3)"
      ],
      "metadata": {
        "id": "gMWuftZZ_wdl"
      },
      "execution_count": null,
      "outputs": []
    },
    {
      "cell_type": "code",
      "source": [
        "history=model.fit(train_images,train_labels,epochs=32,validation_split=0.2,callbacks=[early_stopping,reducelr])"
      ],
      "metadata": {
        "colab": {
          "base_uri": "https://localhost:8080/"
        },
        "id": "kARDUz00AIX1",
        "outputId": "7157dcbe-19fd-43e3-fefc-c376387e7a3f"
      },
      "execution_count": null,
      "outputs": [
        {
          "output_type": "stream",
          "name": "stdout",
          "text": [
            "Epoch 1/32\n",
            "\u001b[1m1500/1500\u001b[0m \u001b[32m━━━━━━━━━━━━━━━━━━━━\u001b[0m\u001b[37m\u001b[0m \u001b[1m78s\u001b[0m 49ms/step - accuracy: 0.7722 - loss: 0.6477 - val_accuracy: 0.8776 - val_loss: 0.3424 - learning_rate: 0.0010\n",
            "Epoch 2/32\n",
            "\u001b[1m1500/1500\u001b[0m \u001b[32m━━━━━━━━━━━━━━━━━━━━\u001b[0m\u001b[37m\u001b[0m \u001b[1m83s\u001b[0m 50ms/step - accuracy: 0.8856 - loss: 0.3243 - val_accuracy: 0.8874 - val_loss: 0.3072 - learning_rate: 0.0010\n",
            "Epoch 3/32\n",
            "\u001b[1m1500/1500\u001b[0m \u001b[32m━━━━━━━━━━━━━━━━━━━━\u001b[0m\u001b[37m\u001b[0m \u001b[1m80s\u001b[0m 48ms/step - accuracy: 0.8995 - loss: 0.2786 - val_accuracy: 0.8992 - val_loss: 0.2751 - learning_rate: 0.0010\n",
            "Epoch 4/32\n",
            "\u001b[1m1500/1500\u001b[0m \u001b[32m━━━━━━━━━━━━━━━━━━━━\u001b[0m\u001b[37m\u001b[0m \u001b[1m81s\u001b[0m 48ms/step - accuracy: 0.9089 - loss: 0.2511 - val_accuracy: 0.8662 - val_loss: 0.3469 - learning_rate: 0.0010\n",
            "Epoch 5/32\n",
            "\u001b[1m1500/1500\u001b[0m \u001b[32m━━━━━━━━━━━━━━━━━━━━\u001b[0m\u001b[37m\u001b[0m \u001b[1m71s\u001b[0m 47ms/step - accuracy: 0.9214 - loss: 0.2194 - val_accuracy: 0.8977 - val_loss: 0.3036 - learning_rate: 0.0010\n",
            "Epoch 6/32\n",
            "\u001b[1m1500/1500\u001b[0m \u001b[32m━━━━━━━━━━━━━━━━━━━━\u001b[0m\u001b[37m\u001b[0m \u001b[1m83s\u001b[0m 48ms/step - accuracy: 0.9237 - loss: 0.2032 - val_accuracy: 0.8925 - val_loss: 0.3015 - learning_rate: 0.0010\n"
          ]
        }
      ]
    },
    {
      "cell_type": "code",
      "source": [
        "plt.plot(history.history['loss'],label='train_acc')\n",
        "plt.plot(history.history['val_loss'],label='val_loss')\n",
        "plt.xlabel('epochs')\n",
        "plt.ylabel('accuracy')\n",
        "plt.grid()\n",
        "plt.legend()"
      ],
      "metadata": {
        "colab": {
          "base_uri": "https://localhost:8080/",
          "height": 466
        },
        "id": "b4u-cTHkAbYT",
        "outputId": "009193e6-7741-46e2-c89b-39afe8d8ae77"
      },
      "execution_count": null,
      "outputs": [
        {
          "output_type": "execute_result",
          "data": {
            "text/plain": [
              "<matplotlib.legend.Legend at 0x7d3ad79d3710>"
            ]
          },
          "metadata": {},
          "execution_count": 79
        },
        {
          "output_type": "display_data",
          "data": {
            "text/plain": [
              "<Figure size 640x480 with 1 Axes>"
            ],
            "image/png": "[encoded data removed]"
          },
          "metadata": {}
        }
      ]
    },
    {
      "cell_type": "code",
      "source": [
        "plt.plot(history.history['accuracy'],label='train_acc')\n",
        "plt.plot(history.history['val_accuracy'],label='val_loss')\n",
        "plt.xlabel('epochs')\n",
        "plt.ylabel('accuracy')\n",
        "plt.grid()\n",
        "plt.legend()"
      ],
      "metadata": {
        "colab": {
          "base_uri": "https://localhost:8080/",
          "height": 466
        },
        "id": "UCIWJpmKEoZ2",
        "outputId": "d53c4a98-26fa-4f6f-9c3c-7b47078c6e07"
      },
      "execution_count": null,
      "outputs": [
        {
          "output_type": "execute_result",
          "data": {
            "text/plain": [
              "<matplotlib.legend.Legend at 0x7d3ad8c93710>"
            ]
          },
          "metadata": {},
          "execution_count": 80
        },
        {
          "output_type": "display_data",
          "data": {
            "text/plain": [
              "<Figure size 640x480 with 1 Axes>"
            ],
            "image/png": "[encoded data removed]"
          },
          "metadata": {}
        }
      ]
    },
    {
      "cell_type": "code",
      "source": [
        "model.save('fashion_mnist_model.keras')"
      ],
      "metadata": {
        "id": "oNmHoQmHE1QZ"
      },
      "execution_count": null,
      "outputs": []
    },
    {
      "cell_type": "code",
      "source": [
        "from PIL import ImageOps,Image"
      ],
      "metadata": {
        "id": "6t4SdYafFDKy"
      },
      "execution_count": null,
      "outputs": []
    },
    {
      "cell_type": "code",
      "source": [
        "def predicted_image(image_path,model):\n",
        "  img=Image.open(image_path).convert('L')\n",
        "  img=ImageOps.invert(img)\n",
        "  img=img.resize((28,28))\n",
        "  img_array=np.array(img)\n",
        "  img_array=img_array.astype('float32')/255\n",
        "  img_array=img_array.reshape(1,28,28,1) # Reshape to include batch size and channel\n",
        "\n",
        "  class_names = [\n",
        "    \"T-shirt/top\", \"Trouser\", \"Pullover\", \"Dress\", \"Coat\",\n",
        "    \"Sandal\", \"Shirt\", \"Sneaker\", \"Bag\", \"Ankle boot\"]\n",
        "\n",
        "\n",
        "  prediction=model.predict(img_array)\n",
        "  print(prediction)\n",
        "  predicted_class=np.argmax(prediction)\n",
        "  pred_label = class_names[predicted_class]\n",
        "  print(predicted_class) # Corrected variable name\n",
        "  confidence=np.max(prediction)\n",
        "  print(confidence)\n",
        "  return pred_label,confidence # Return predicted_class instead of predicted_image"
      ],
      "metadata": {
        "id": "27Ylazh7FNva"
      },
      "execution_count": null,
      "outputs": []
    },
    {
      "cell_type": "code",
      "source": [
        "class_names = [\n",
        "    \"T-shirt/top\", \"Trouser\", \"Pullover\", \"Dress\", \"Coat\",\n",
        "    \"Sandal\", \"Shirt\", \"Sneaker\", \"Bag\", \"Ankle boot\"\n",
        "]\n"
      ],
      "metadata": {
        "id": "Q5ONfx9mKjuR"
      },
      "execution_count": null,
      "outputs": []
    },
    {
      "cell_type": "code",
      "source": [
        "def load_and_predict(image_path):\n",
        "  load_model=tf.keras.models.load_model('fashion_mnist_model.keras')\n",
        "  pred_label,confidence=predicted_image(image_path,load_model) # Correctly calling the global function\n",
        "\n",
        "\n",
        "  img=Image.open(image_path).convert('L')\n",
        "  plt.imshow(img,cmap='grey')\n",
        "  plt.title(f\"Predicted : {pred_label} (Confidence : {confidence})\")\n",
        "  plt.axis('off')"
      ],
      "metadata": {
        "id": "VZiBZXbUGV0X"
      },
      "execution_count": null,
      "outputs": []
    },
    {
      "cell_type": "code",
      "source": [
        "from google.colab import files\n",
        "files.upload()"
      ],
      "metadata": {
        "colab": {
          "base_uri": "https://localhost:8080/",
          "height": 770
        },
        "id": "YsnrQpPnHG0B",
        "outputId": "013a9361-51eb-437d-8672-912b4db02f44"
      },
      "execution_count": null,
      "outputs": [
        {
          "output_type": "display_data",
          "data": {
            "text/plain": [
              "<IPython.core.display.HTML object>"
            ],
            "text/html": [
              "\n",
              "     <input type=\"file\" id=\"files-7fdf199c-10da-4317-a8ec-6460ca8db9b9\" name=\"files[]\" multiple disabled\n",
              "        style=\"border:none\" />\n",
              "     <output id=\"result-7fdf199c-10da-4317-a8ec-6460ca8db9b9\">\n",
              "      Upload widget is only available when the cell has been executed in the\n",
              "      current browser session. Please rerun this cell to enable.\n",
              "      </output>\n",
              "      <script>// Copyright 2017 Google LLC\n",
              "//\n",
              "// Licensed under the Apache License, Version 2.0 (the \"License\");\n",
              "// you may not use this file except in compliance with the License.\n",
              "// You may obtain a copy of the License at\n",
              "//\n",
              "//      http://www.apache.org/licenses/LICENSE-2.0\n",
              "//\n",
              "// Unless required by applicable law or agreed to in writing, software\n",
              "// distributed under the License is distributed on an \"AS IS\" BASIS,\n",
              "// WITHOUT WARRANTIES OR CONDITIONS OF ANY KIND, either express or implied.\n",
              "// See the License for the specific language governing permissions and\n",
              "// limitations under the License.\n",
              "\n",
              "/**\n",
              " * @fileoverview Helpers for google.colab Python module.\n",
              " */\n",
              "(function(scope) {\n",
              "function span(text, styleAttributes = {}) {\n",
              "  const element = document.createElement('span');\n",
              "  element.textContent = text;\n",
              "  for (const key of Object.keys(styleAttributes)) {\n",
              "    element.style[key] = styleAttributes[key];\n",
              "  }\n",
              "  return element;\n",
              "}\n",
              "\n",
              "// Max number of bytes which will be uploaded at a time.\n",
              "const MAX_PAYLOAD_SIZE = 100 * 1024;\n",
              "\n",
              "function _uploadFiles(inputId, outputId) {\n",
              "  const steps = uploadFilesStep(inputId, outputId);\n",
              "  const outputElement = document.getElementById(outputId);\n",
              "  // Cache steps on the outputElement to make it available for the next call\n",
              "  // to uploadFilesContinue from Python.\n",
              "  outputElement.steps = steps;\n",
              "\n",
              "  return _uploadFilesContinue(outputId);\n",
              "}\n",
              "\n",
              "// This is roughly an async generator (not supported in the browser yet),\n",
              "// where there are multiple asynchronous steps and the Python side is going\n",
              "// to poll for completion of each step.\n",
              "// This uses a Promise to block the python side on completion of each step,\n",
              "// then passes the result of the previous step as the input to the next step.\n",
              "function _uploadFilesContinue(outputId) {\n",
              "  const outputElement = document.getElementById(outputId);\n",
              "  const steps = outputElement.steps;\n",
              "\n",
              "  const next = steps.next(outputElement.lastPromiseValue);\n",
              "  return Promise.resolve(next.value.promise).then((value) => {\n",
              "    // Cache the last promise value to make it available to the next\n",
              "    // step of the generator.\n",
              "    outputElement.lastPromiseValue = value;\n",
              "    return next.value.response;\n",
              "  });\n",
              "}\n",
              "\n",
              "/**\n",
              " * Generator function which is called between each async step of the upload\n",
              " * process.\n",
              " * @param {string} inputId Element ID of the input file picker element.\n",
              " * @param {string} outputId Element ID of the output display.\n",
              " * @return {!Iterable<!Object>} Iterable of next steps.\n",
              " */\n",
              "function* uploadFilesStep(inputId, outputId) {\n",
              "  const inputElement = document.getElementById(inputId);\n",
              "  inputElement.disabled = false;\n",
              "\n",
              "  const outputElement = document.getElementById(outputId);\n",
              "  outputElement.innerHTML = '';\n",
              "\n",
              "  const pickedPromise = new Promise((resolve) => {\n",
              "    inputElement.addEventListener('change', (e) => {\n",
              "      resolve(e.target.files);\n",
              "    });\n",
              "  });\n",
              "\n",
              "  const cancel = document.createElement('button');\n",
              "  inputElement.parentElement.appendChild(cancel);\n",
              "  cancel.textContent = 'Cancel upload';\n",
              "  const cancelPromise = new Promise((resolve) => {\n",
              "    cancel.onclick = () => {\n",
              "      resolve(null);\n",
              "    };\n",
              "  });\n",
              "\n",
              "  // Wait for the user to pick the files.\n",
              "  const files = yield {\n",
              "    promise: Promise.race([pickedPromise, cancelPromise]),\n",
              "    response: {\n",
              "      action: 'starting',\n",
              "    }\n",
              "  };\n",
              "\n",
              "  cancel.remove();\n",
              "\n",
              "  // Disable the input element since further picks are not allowed.\n",
              "  inputElement.disabled = true;\n",
              "\n",
              "  if (!files) {\n",
              "    return {\n",
              "      response: {\n",
              "        action: 'complete',\n",
              "      }\n",
              "    };\n",
              "  }\n",
              "\n",
              "  for (const file of files) {\n",
              "    const li = document.createElement('li');\n",
              "    li.append(span(file.name, {fontWeight: 'bold'}));\n",
              "    li.append(span(\n",
              "        `(${file.type || 'n/a'}) - ${file.size} bytes, ` +\n",
              "        `last modified: ${\n",
              "            file.lastModifiedDate ? file.lastModifiedDate.toLocaleDateString() :\n",
              "                                    'n/a'} - `));\n",
              "    const percent = span('0% done');\n",
              "    li.appendChild(percent);\n",
              "\n",
              "    outputElement.appendChild(li);\n",
              "\n",
              "    const fileDataPromise = new Promise((resolve) => {\n",
              "      const reader = new FileReader();\n",
              "      reader.onload = (e) => {\n",
              "        resolve(e.target.result);\n",
              "      };\n",
              "      reader.readAsArrayBuffer(file);\n",
              "    });\n",
              "    // Wait for the data to be ready.\n",
              "    let fileData = yield {\n",
              "      promise: fileDataPromise,\n",
              "      response: {\n",
              "        action: 'continue',\n",
              "      }\n",
              "    };\n",
              "\n",
              "    // Use a chunked sending to avoid message size limits. See b/62115660.\n",
              "    let position = 0;\n",
              "    do {\n",
              "      const length = Math.min(fileData.byteLength - position, MAX_PAYLOAD_SIZE);\n",
              "      const chunk = new Uint8Array(fileData, position, length);\n",
              "      position += length;\n",
              "\n",
              "      const base64 = btoa(String.fromCharCode.apply(null, chunk));\n",
              "      yield {\n",
              "        response: {\n",
              "          action: 'append',\n",
              "          file: file.name,\n",
              "          data: base64,\n",
              "        },\n",
              "      };\n",
              "\n",
              "      let percentDone = fileData.byteLength === 0 ?\n",
              "          100 :\n",
              "          Math.round((position / fileData.byteLength) * 100);\n",
              "      percent.textContent = `${percentDone}% done`;\n",
              "\n",
              "    } while (position < fileData.byteLength);\n",
              "  }\n",
              "\n",
              "  // All done.\n",
              "  yield {\n",
              "    response: {\n",
              "      action: 'complete',\n",
              "    }\n",
              "  };\n",
              "}\n",
              "\n",
              "scope.google = scope.google || {};\n",
              "scope.google.colab = scope.google.colab || {};\n",
              "scope.google.colab._files = {\n",
              "  _uploadFiles,\n",
              "  _uploadFilesContinue,\n",
              "};\n",
              "})(self);\n",
              "</script> "
            ]
          },
          "metadata": {}
        },
        {
          "output_type": "stream",
          "name": "stdout",
          "text": [
            "Saving jeans.jpg to jeans (2).jpg\n"
          ]
        },
        {
          "output_type": "execute_result",
          "data": {
            "text/plain": [
              "{'jeans (2).jpg': b'\\xff\\xd8\\xff\\xe0\\x00\\x10JFIF\\x00\\x01\\x01\\x01\\x00`\\x00`\\x00\\x00\\xff\\xdb\\x00C\\x00\\x03\\x02\\x02\\x02\\x02\\x02\\x03\\x02\\x02\\x02\\x03\\x03\\x03\\x03\\x04\\x06\\x04\\x04\\x04\\x04\\x04\\x08\\x06\\x06\\x05\\x06\\t\\x08\\n\\n\\t\\x08\\t\\t\\n\\x0c\\x0f\\x0c\\n\\x0b\\x0e\\x0b\\t\\t\\r\\x11\\r\\x0e\\x0f\\x10\\x10\\x11\\x10\\n\\x0c\\x12\\x13\\x12\\x10\\x13\\x0f\\x10\\x10\\x10\\xff\\xdb\\x00C\\x01\\x03\\x03\\x03\\x04\\x03\\x04\\x08\\x04\\x04\\x08\\x10\\x0b\\t\\x0b\\x10\\x10\\x10\\x10\\x10\\x10\\x10\\x10\\x10\\x10\\x10\\x10\\x10\\x10\\x10\\x10\\x10\\x10\\x10\\x10\\x10\\x10\\x10\\x10\\x10\\x10\\x10\\x10\\x10\\x10\\x10\\x10\\x10\\x10\\x10\\x10\\x10\\x10\\x10\\x10\\x10\\x10\\x10\\x10\\x10\\x10\\x10\\x10\\x10\\x10\\xff\\xc0\\x00\\x11\\x08\\x00\\xe1\\x00\\xe1\\x03\\x01\"\\x00\\x02\\x11\\x01\\x03\\x11\\x01\\xff\\xc4\\x00\\x1f\\x00\\x00\\x01\\x05\\x01\\x01\\x01\\x01\\x01\\x01\\x00\\x00\\x00\\x00\\x00\\x00\\x00\\x00\\x01\\x02\\x03\\x04\\x05\\x06\\x07\\x08\\t\\n\\x0b\\xff\\xc4\\x00\\xb5\\x10\\x00\\x02\\x01\\x03\\x03\\x02\\x04\\x03\\x05\\x05\\x04\\x04\\x00\\x00\\x01}\\x01\\x02\\x03\\x00\\x04\\x11\\x05\\x12!1A\\x06\\x13Qa\\x07\"q\\x142\\x81\\x91\\xa1\\x08#B\\xb1\\xc1\\x15R\\xd1\\xf0$3br\\x82\\t\\n\\x16\\x17\\x18\\x19\\x1a%&\\'()*456789:CDEFGHIJSTUVWXYZcdefghijstuvwxyz\\x83\\x84\\x85\\x86\\x87\\x88\\x89\\x8a\\x92\\x93\\x94\\x95\\x96\\x97\\x98\\x99\\x9a\\xa2\\xa3\\xa4\\xa5\\xa6\\xa7\\xa8\\xa9\\xaa\\xb2\\xb3\\xb4\\xb5\\xb6\\xb7\\xb8\\xb9\\xba\\xc2\\xc3\\xc4\\xc5\\xc6\\xc7\\xc8\\xc9\\xca\\xd2\\xd3\\xd4\\xd5\\xd6\\xd7\\xd8\\xd9\\xda\\xe1\\xe2\\xe3\\xe4\\xe5\\xe6\\xe7\\xe8\\xe9\\xea\\xf1\\xf2\\xf3\\xf4\\xf5\\xf6\\xf7\\xf8\\xf9\\xfa\\xff\\xc4\\x00\\x1f\\x01\\x00\\x03\\x01\\x01\\x01\\x01\\x01\\x01\\x01\\x01\\x01\\x00\\x00\\x00\\x00\\x00\\x00\\x01\\x02\\x03\\x04\\x05\\x06\\x07\\x08\\t\\n\\x0b\\xff\\xc4\\x00\\xb5\\x11\\x00\\x02\\x01\\x02\\x04\\x04\\x03\\x04\\x07\\x05\\x04\\x04\\x00\\x01\\x02w\\x00\\x01\\x02\\x03\\x11\\x04\\x05!1\\x06\\x12AQ\\x07aq\\x13\"2\\x81\\x08\\x14B\\x91\\xa1\\xb1\\xc1\\t#3R\\xf0\\x15br\\xd1\\n\\x16$4\\xe1%\\xf1\\x17\\x18\\x19\\x1a&\\'()*56789:CDEFGHIJSTUVWXYZcdefghijstuvwxyz\\x82\\x83\\x84\\x85\\x86\\x87\\x88\\x89\\x8a\\x92\\x93\\x94\\x95\\x96\\x97\\x98\\x99\\x9a\\xa2\\xa3\\xa4\\xa5\\xa6\\xa7\\xa8\\xa9\\xaa\\xb2\\xb3\\xb4\\xb5\\xb6\\xb7\\xb8\\xb9\\xba\\xc2\\xc3\\xc4\\xc5\\xc6\\xc7\\xc8\\xc9\\xca\\xd2\\xd3\\xd4\\xd5\\xd6\\xd7\\xd8\\xd9\\xda\\xe2\\xe3\\xe4\\xe5\\xe6\\xe7\\xe8\\xe9\\xea\\xf2\\xf3\\xf4\\xf5\\xf6\\xf7\\xf8\\xf9\\xfa\\xff\\xda\\x00\\x0c\\x03\\x01\\x00\\x02\\x11\\x03\\x11\\x00?\\x00\\xfdS\\xa2\\x8a(\\x00\\xa2\\x8a(\\x00\\xa2\\x8a(\\x00\\xa2\\x8a(\\x00\\xa2\\x8a(\\x00\\xa2\\x8a(\\x00\\xa2\\x8a(\\x00\\xa2\\x8a(\\x00\\xa2\\x8a(\\x00\\xa2\\x8a(\\x00\\xa2\\x8a(\\x00\\xa2\\x8a(\\x00\\xa2\\x8a(\\x00\\xa2\\x8a(\\x00\\xa2\\x8a(\\x00\\xa2\\x8a(\\x00\\xa2\\x8a(\\x00\\xa2\\x8a(\\x00\\xa2\\x8a(\\x00\\xa2\\x8a(\\x00\\xa2\\x8a(\\x00\\xa2\\x8a(\\x00\\xa2\\x8a(\\x00\\xa2\\x8a(\\x00\\xa2\\x8a(\\x00\\xa2\\x8a(\\x00\\xa2\\x8a(\\x00\\xa2\\x8a(\\x00\\xa2\\x8a(\\x00\\xa2\\x8a(\\x00\\xa2\\x8a(\\x00\\xa2\\x8a(\\x00\\xa2\\x8a(\\x00\\xa2\\x8a(\\x00\\xa2\\x8a(\\x00\\xae.\\xe7\\xe2\\xff\\x00\\xc2\\x9b\\x0b\\xc9\\xb4\\xfb\\xcf\\x89\\xde\\x12\\xb5\\xba\\xb6\\x91\\xa2\\x9e\\x19\\xb5\\xabd\\x927V\\xda\\xca\\xea_\\xe5m\\xdc`\\xd7\\\\\\xf2,Jf\\x98\\x84\\xed_\\x80\\x9f\\x18<G\\xa6x\\x8b\\xe2\\xd7\\x8e<K\\x05\\xcf\\x9b\\r\\xff\\x00\\x89u[\\xabk\\xbb{uH%\\x8a[\\x99\\x19e]\\xcd\\xf7]v\\xbf\\xfc\\n\\xae\\x9c=\\xa0\\x1f\\xb9m\\xf1\\xaf\\xe0\\xd7\\x7f\\x8b>\\n\\xff\\x00\\xc1\\xfd\\xaf\\xff\\x00\\x17S\\xc3\\xf1s\\xe1]\\xcf\\xfc{\\xfcN\\xf0\\xac\\x9f\\xf5\\xcfX\\xb7o\\xfd\\x9e\\xbf\\x00!\\x83L\\xd4\\x7f\\xd2>\\xd3\\xe6\\xc3\\x04\\xa9\\xfb\\xa9#Ty~\\xf7\\xdd_\\xf66\\xfc\\xf5\\x8f6\\x9d\\xa6\\xdcX\\xcef\\xb9\\xff\\x00_\\xbe_+\\xcb\\xfe\\xf7\\xf0\\xfd\\xda\\xbfb\\x07\\xf4\\x1c\\xdf\\x1b~\\x0c\\xc3)\\x8a\\x7f\\x8b^\\x0b\\x8eX\\x87\\xce\\xa7^\\xb5\\x04~oQ\\xb7\\xc7?\\x82\\xa3\\xf7R|`\\xf0NO\\xfdG\\xec\\xc7\\xfe\\xd4\\xaf\\xc1\\x9dW\\xc5Zf\\xa3\\xa0\\xe9^\\x1a\\xfe\\xcd\\xd2\\xa2\\x9a\\xc3}\\xcf\\xf6\\x84q\\xb7\\x9f/\\x9b\\xf3mo\\xf7?\\xf6T\\xaeb\\xf3J\\xb6\\xb8\\xb0\\x9e\\xfe\\x0b\\x9bH\\xbe\\xc1\\x14^dRH\\xa9<\\xbb\\xfe]\\xd1G\\xf7\\xe5\\xd9\\xfc{>\\xe5\\x1e\\xc4\\x0f\\xe8;\\xfe\\x17\\xa7\\xc1o\\xfa,>\\t\\xff\\x00\\xc2\\x82\\xcf\\xff\\x00\\x8eWY\\xa6\\xea\\x9af\\xb3a\\x06\\xaf\\xa4\\xea6\\xd7\\xd6\\x971y\\xb6\\xf76\\xf2,\\xb1\\xc8\\x9f\\xdeV^\\x19~\\x95\\xfc\\xd3\\xdc\\xc7\\xa6\\x7f\\xcf\\xcf\\xfeCZ\\xfd\\xec\\xfd\\x865\\x8b}k\\xf6G\\xf8Ms\\x05\\xd5\\xac\\xbeO\\x86\\xad\\xec_\\xec\\xfd\\x03\\xdb\\xfe\\xe1\\xd5\\xbf\\xdbV\\x8c\\xab\\xff\\x00\\xb6\\x1a\\xa2p\\xb0\\x1e\\xf7E2\\x9fP\\x01E\\x14P\\x01E\\x14P\\x01E\\x14P\\x01E\\x14P\\x01E\\x14P\\x01E\\x14P\\x01E\\x14P\\x01E\\x14P\\x01E\\x14P\\x01E\\x14P\\x07\\x8a~\\xd9Z\\xa7\\xf67\\xec\\xb5\\xf16\\xe2\\x1b\\xa9m\\xa6\\x9f\\xc3\\xf7\\x161\\xcb\\x1c\\x9b\\x1c=\\xc7\\xee\\x13\\xe6\\xff\\x00zZ\\xfcN\\xb6}v\\xde\\x7f\\xb7\\xcf\\xa9Kk\\xfb\\xdf\\xf5\\xb2I\\xbeM\\xff\\x00\\xc3\\xb6\\xbfW\\x7f\\xe0\\xa8>\\']\\x17\\xf6b:\\x02\\x9f\\xf9\\x19|A\\xa7\\xe9\\xa7\\xfd\\xd8\\x8b]\\xff\\x00\\xed\\xaa\\xd7\\xe4W\\x97]4 \\x04\\xd7\\x9a\\x95\\xce\\xa3<\\xf7\\xff\\x00\\xf2\\xday^Y%\\xff\\x00\\x96\\x92\\xbc\\xac\\xcc\\xcc\\xcd\\xfd\\xe7fo\\xfb\\xea\\xb0f\\x93\\xfd\\x1e\\xac\\xbc\\x9ff\\xaa\\xd7\\xf3\\xff\\x00\\xa3\\xd6\\xe4\\x0f\\x9a?\\xdf\\xc1\\xff\\x00\\\\\\xbf\\xf6\\x95B\\x9f\\xf4\\xdf\\xcd\\x96\\x1f\\xf9\\xe5\\xfe\\xc7\\xfb54\\xd7\\x7fi\\xf2?\\xd1\\xbf\\xe5\\x93\\xff\\x00\\xec\\xbf\\xfcMB\\xf3\\xfe\\xe2\\xa0\\n\\x17:\\x1d\\xd5\\xbf\\xfcx\\xff\\x00\\xa5C\\xf3\\xff\\x00\\xab\\xf9\\xe4\\xff\\x00\\x81W\\xea\\xff\\x00\\xfc\\x11\\xef\\xc67:\\x87\\xc0\\x8f\\x17\\xf8.\\xf6\\xe6S?\\x87<J\\xd7\\x16\\xf1K\\xd2\\x1bK\\xabh\\xd9UW\\xb2\\xf9\\xf1\\\\\\xb7\\xd5\\x9a\\xbf*a\\x93\\xfex~\\xea\\xbe\\xe3\\xff\\x00\\x82@x\\xe0\\xe9\\xdf\\x1c<c\\xe0I\\xbf\\xd4\\xf8\\x97\\xc3i}\\x1f\\xfdu\\xb2\\x9dv\\xaf\\xfd\\xf1y/\\xfd\\xf3Y\\xd4\\x81g\\xeb}>\\x99O\\xae`\\n(\\xa2\\x80\\n(\\xa2\\x80\\n(\\xa2\\x80\\n(\\xa2\\x80\\n(\\xa2\\x80\\n(\\xa2\\x80\\n(\\xa2\\x80\\n(\\xa2\\x80\\n(\\xa2\\x80\\n(\\xa2\\x80>\\x02\\xff\\x00\\x82\\xbb^\\x8f\\xf8U\\xbe\\x01\\xb0\\x1f\\xf2\\xdf_\\xb8\\xb9\\xff\\x00\\xbe-\\x99\\x7f\\xf6\\xad~b\\xf9\\x9f\\xe8\\xf5\\xfa9\\xff\\x00\\x05\\x87\\xbf\\xfb>\\x93\\xf0\\xb2\\xc3\\xfe{\\xcd\\xacK\\xff\\x00|-\\xa2\\xff\\x00\\xedZ\\xfc\\xda\\xf3\\xff\\x00\\xd1\\xeb\\xb6\\x87\\xf0\\xcc\\xe6S\\x9a\\x7f\\xb4\\xff\\x00\\xaf\\xaa\\xda\\x97\\xfcx\\xcfOx\\xea\\x17\\x7f\\xf4y\\xff\\x00\\xeb\\x95X\\x8b\\x8f\\xf6\\xaf\\xf8\\xf8\\xff\\x00U7\\x95T\\xe1\\x83\\xf7\\xf5r\\xe6\\xee\\xd7\\xfeX~\\xf6o\\x92\\xa9\\xc3\\x05D\\n\\x1e\\xf5\\xf4\\xcf\\xfc\\x13+R\\xfe\\xcd\\xfd\\xb0\\xbc\\x1d\\x01\\xff\\x00\\x97\\xebMN\\xc7\\xff\\x00$g\\x97\\xff\\x00i-|\\xd3r\\x9f\\xb8\\xaf{\\xff\\x00\\x82~\\xcf\\xf6o\\xda\\xf3\\xe1\\x94\\xff\\x00\\xf5\\x10\\xbb\\x8b\\xfe\\xfb\\xb1\\xb9_\\xfd\\x9a\\x8a\\x80~\\xeaS\\xe9\\x94\\xfa\\xe2,(\\xa2\\x8a\\x00(\\xa2\\x8a\\x00(\\xa2\\x8a\\x00(\\xa2\\x8a\\x00(\\xa2\\x8a\\x00(\\xa2\\x8a\\x00(\\xa2\\x8a\\x00(\\xa2\\x8a\\x00(\\xa2\\x8a\\x00(\\xa2\\x8a\\x00\\xfc\\xba\\xff\\x00\\x82\\xc2\\xeb\\x02\\xe3\\xc5\\xbf\\x0c\\xf4/\\xf9\\xf1\\xd2\\xb5;\\xaf\\xfc\\x08\\x92\\x04\\xff\\x00\\xda\\x15\\xf9\\xf6\\x92~\\xe2\\xbe\\xc5\\xff\\x00\\x82\\xb1\\xea\\xc6\\xe7\\xf6\\x9c\\xb1\\xb1<Cc\\xe1\\r>\\xdb\\xfe\\x07\\xf6\\x9b\\xb9\\x7f\\xf6\\xaa\\xd7\\xc6\\xf0\\xff\\x00\\xc7\\x85wP\\xfe\\x19\\x05k\\x9a\\xa14u\\xa4\\xf1\\xd6&\\xa2\\x977\\x06x!\\xff\\x00[\\xfe\\xaa?\\xf7\\xaa\\xe6If\\xceO\\xb4\\xc1\\x05\\xc4\\x1f\\xf2\\xde\\xaf\\xc3\\xd2\\xbd\\xfb\\xf6\\xf0\\xf0v\\x99\\xe0\\xcf\\xda\\xb7\\xc7\\x1aF\\x95\\xa6\\xdaXY\\xcf\\xfd\\x9f}oign\\xb1G\\x1aK\\xa7\\xdbn\\xda\\xab\\xf2/\\xef|\\xd6\\xaf\\x07J \\x01s\\xff\\x00\\x1e\\xf5\\xec\\x7f\\xb1\\x0e\\xa5\\xfd\\x9d\\xfbV|2\\xb8\\xff\\x00\\xa8\\xfaE\\xff\\x00\\x7fc\\x92/\\xfd\\x9a\\xbcr\\xff\\x00\\xfe=\\xeb\\xaa\\xf8\\x03\\xac\\x7f\\xc2;\\xf1\\xc3\\xe1\\xce\\xbd\\xff\\x00>\\x1e/\\xd1\\xee\\x7f\\xe0\\t{\\x06\\xff\\x00\\xfcr\\xb3\\x98\\x1f\\xd1\\x15>\\x99O\\xae#P\\xa2\\x8a(\\x00\\xa2\\x8a(\\x00\\xa2\\x8a(\\x00\\xa2\\x8a(\\x00\\xa2\\x8a(\\x00\\xa2\\x8a(\\x00\\xa2\\x8a(\\x00\\xa2\\x8a(\\x00\\xa2\\x8a(\\x00\\xa2\\x8a(\\x03\\xf1\\x17\\xfe\\nU\\xaa\\x9dC\\xf6\\xba\\xf1\\xbd\\xb9\\xeba\\x0e\\x99k\\x1f\\xfb\\xbf\\xd9\\xf0K\\xff\\x00\\xa1\\xca\\xd5\\xf3<3\\xff\\x00\\xa3\\xd7\\xb6~\\xdd:\\xa9\\xd6\\x7fj\\xbf\\x89\\x97\\xf0\\xf5\\xfe\\xdf\\xfb/\\xfe\\x03\\xc1\\x1c\\x1f\\xfbJ\\xbc6\\xdb\\xfdEz\\x14\\xf6 }\\xcc\\xff\\x00g\\xb7\\xa7\\xf82\\xc7\\xfbg\\xc6\\xba\\x1d\\x87\\xfc\\xff\\x00\\xea\\xb6V\\xbf\\xf7\\xdc\\xea\\xbf\\xfb5S\\xbc\\x93\\xf7\\x15\\xd0\\xfc\\r\\x83\\xfbG\\xe3O\\xc3\\x9b\\x0f\\xf9\\xef\\xe2\\xfd\\x12/\\xfb\\xebP\\x81j&I\\xf5G\\xfc\\x15n\\xc7\\xfb?\\xf6\\xac\\xfbG\\xfc\\xff\\x00\\xf8WM\\xb9\\xff\\x00\\x81\\xf9\\xb71\\x7f\\xed%\\xaf\\x90k\\xed\\x0f\\xf8,\\x04\\x7ff\\xfd\\xa3\\xbc9q\\xff\\x00=\\xfc\\x15i\\xff\\x00\\x8e_]\\xd7\\xc4\\xf0\\xcfE\\x02\\x89\\xef?\\xe3\\xde\\xaa\\xd9\\xea7Zu\\xc7\\xf6\\xbc\\x1f\\xeb\\xac?\\xd2\\xa3\\xff\\x00}>e\\xff\\x00\\xd0j\\xd5\\xe7\\xfc{\\xd6d1\\xd0I\\xfd-\\xe9\\xd7\\xa9\\xa8YA\\x7f\\x08\\x1eM\\xccI4g\\xfd\\x96]\\xd5r\\xbc\\xef\\xf6|\\xf1\\x00\\xf1W\\xc0\\x8f\\x87^%\\xfbG\\x98u_\\n\\xe97N\\x7f\\xdb{H\\xd9\\xab\\xd1+\\x88\\xd4(\\xa2\\x8a\\x00(\\xa2\\x8a\\x00(\\xa2\\x8a\\x00(\\xa2\\x8a\\x00(\\xa2\\x8a\\x00(\\xa2\\x8a\\x00(\\xa2\\x8a\\x00(\\xa2\\x8a\\x00(\\xa2\\x8a\\x00(\\xa2\\xab]\\\\\\x0bh&\\xb8\\x94\\x0f*\\x18\\xdaC\\xff\\x00\\x01\\xe6\\x80?\\x9e\\x9f\\xda+T\\xfe\\xd9\\xf8\\xd1\\xf1\\x1bV\\x1f\\xf2\\xfd\\xe2\\xfdb\\xe7\\xfe\\xfb\\xbd\\x92\\xb8\\x0b\\t?\\xd1\\xea\\xcf\\x89u_\\xed\\x9b\\x89\\xf5i\\xff\\x00\\xd7_\\xca\\xf72\\x7f\\xbf+nj\\xa1\\xa6\\xc9\\xfe\\x8f]\\xb4\\xcc\\x89\\xaf#\\xfd\\xc5z_\\xecs\\xa3\\x7fl\\xfe\\xd5\\xbf\\n\\xf4\\x8f\\xfa\\x9a\\xac\\xae\\x7f\\xf0\\x1d\\xbc\\xff\\x00\\xfd\\xa5^is%{\\xf7\\xfc\\x13\\x8bJ\\xfe\\xd9\\xfd\\xb4\\xbe\\x1d\\x7f\\xd3\\x8c\\xba\\x85\\xf4\\x9f\\xf0\\r6\\xef\\xff\\x00f\\xdbEB\\x8fo\\xff\\x00\\x82\\xcdX}\\x9f\\xe3\\x0f\\xc3\\x9d_\\xfe\\x7f\\xfc5qk\\xff\\x00~\\xae\\xf7\\x7f\\xedz\\xf82\\xdaO\\xdcW\\xe8\\xef\\xfc\\x16\\x9bK\\x03U\\xf8=\\xaem\\xfd\\xd7\\x97\\xae\\xdb9\\xff\\x00ku\\x93/\\xfe\\xcd_\\x9b\\x90\\xc9Q@S/\\xdeI\\xfe\\x81T,\\xff\\x00\\xe3\\xe2\\xae]\\x7f\\xc7\\xbdV\\xb3O\\xf4\\x8a\\xb1\\x1f\\xbc\\xff\\x00\\xb0F\\xb1\\xfd\\xb5\\xfb\\x1f|0\\xb8\\xff\\x00\\x9f}\\x17\\xec?\\xf8\\x0f4\\xb0\\x7f\\xed*\\xfa\\x02\\xbeE\\xff\\x00\\x82]j?j\\xfd\\x914=<\\x1f0\\xe9:\\xd6\\xafjO\\xfb\\xf7o8\\xff\\x00\\xc7g\\xaf\\xae\\xab\\x8af\\xa1E\\x14P\\x01E\\x14P\\x01E\\x14P\\x01E\\x14P\\x01E\\x14P\\x01E\\x14P\\x01E\\x14P\\x01E\\x14P\\x01E\\x14P\\x01^{\\xf1\\xff\\x00\\xc4\\xa7\\xc1\\xbf\\x01\\xfe\"\\xf8\\xb40\\x8d\\xb4\\x8f\\x0bj\\xb7\\xb1\\x9f\\xf6\\xd2\\xd2F_\\xfcz\\xbd\\n\\xbe\\x7f\\xfd\\xbe5\\x7f\\xec_\\xd8\\xff\\x00\\xe2m\\xcf\\xfc\\xf7\\xd2V\\xc7\\xff\\x00\\x02\\'\\x8e\\x0f\\xfd\\xa9B\\x03\\xf0cR\\x93\\xff\\x00ES4\\xd9?\\xd1\\xe9\\x97\\xf2~\\xfe\\x99\\xa6\\xc9]\\xa8\\xc8\\xb9s\\'\\xee+\\xeb\\x8f\\xf8$\\xbe\\x9c5\\x0f\\xda\\xe8\\xdc\\x1e\\xb6\\x1e\\x16\\xd5nG\\xfb\\xdee\\xb4_\\xfbU\\xab\\xe4\\x1b\\x8e\\x95\\xf6\\x97\\xfc\\x12\\x03\\xfeN\\xb3U\\xff\\x00\\xb1\\x1bR\\xff\\x00\\xd2\\xeb\\n\\x89\\xfc\\x03\\x81\\xf4\\x1f\\xfc\\x16r\\xc87\\xc3?\\x86Z\\x87\\xfc\\xfb\\xf8\\x96\\xe2/\\xfb\\xea\\xd1\\x9b\\xff\\x00iW\\xe5&\\xff\\x00j\\xfds\\xff\\x00\\x82\\xc9\\xc1\\xff\\x00\\x16\\x03\\xc1\\x17C\\xfeYx\\xe2\\x18\\xbf\\xef\\xad6\\xf4\\xff\\x00\\xec\\xb5\\xf9\\x07\\xbe\\xa2\\x88L\\xd5\\x9aO\\xf4ze\\x9c\\x94\\xc9\\xff\\x00\\xe3\\xc2\\xabC=l#\\xf6\\x0b\\xfe\\t\\x0f\\xae}\\xa7\\xe0\\x7f\\x8ct\\x13\\xd2\\xc3\\xc5\\xef,\\x7f\\xeeKem\\xff\\x00\\xb3D\\xf5\\xf7\\x8d~h\\x7f\\xc1\\x1au\\xbf\\xb4\\xdb|S\\xd0H\\xff\\x00S\\xfd\\x8b{\\xff\\x00}\\x8b\\xb4\\xff\\x00\\xdau\\xfa_\\\\\\x93\\xdc\\xd4(\\xa2\\x8a\\x90\\n(\\xa2\\x80\\n(\\xa2\\x80\\n(\\xa2\\x80\\n(\\xa2\\x80\\n(\\xa2\\x80\\n(\\xa2\\x80\\n(\\xa2\\x80\\n(\\xa2\\x80\\n\\xf9+\\xfe\\n\\x91y\\xf6_\\xd8\\xf3\\xc4c\\xfe{\\xea\\xba<_\\xf9P\\x81\\xbf\\xf6Z\\xfa\\xd6\\xbej\\xff\\x00\\x82\\x8bx=\\xfci\\xfb\\x1b\\xfcE\\xb6\\xb7\\x19\\x9bI\\xb5\\xb7\\xd7\\x13\\xd9l\\xaec\\x9e_\\xfc\\x85\\x1c\\x94@\\x0f\\xc2MJO\\xf4\\x8ae\\x8d\\x17]\\xaa\\x1b?\\xf9o]\\xa8\\x82\\xfd\\xe3\\xd7\\xda\\xbf\\xf0GxM\\xc7\\xedG\\xae\\xcf\\x9e \\xf05\\xf9\\xff\\x00\\xbe\\xaf\\xac+\\xe2\\x1b\\xf9?q_\\xa0_\\xf0F=\\x14\\xdc|`\\xf8\\x89\\xe2\\r\\xb9\\x16^\\x1b\\xb5\\xb4\\xcf\\xbc\\xf7{\\xff\\x00\\xf6\\xdb\\xff\\x00\\x1d\\xa8\\x9f\\xc0\\x07\\xbe\\xff\\x00\\xc1d\\x07\\xfcc\\x17\\x85\\xa6\\x1f\\xf2\\xc3\\xc7\\xd6\\'\\xf3\\xb0\\xd4\\x17\\xff\\x00f\\xaf\\xc7\\xabj\\xfd\\xb4\\xff\\x00\\x82\\xaeh\\x83S\\xfd\\x8d\\xb5\\xdb\\xe1\\xff\\x000}oH\\xbd\\xff\\x00\\xbe\\xae\\xd6\\x0f\\xfd\\xaf_\\x89\\x10\\xf5\\xa8\\xa2\\x05\\xf9\\xa4\\xff\\x00@\\xaaiW.\\x7f\\xd4U\\x04\\xeb[\\x01\\xfaE\\xff\\x00\\x04a\\xba\\'\\xc7_\\x13m\\xb3\\xc7\\xf6.\\x95\\xff\\x00\\x8e\\xcfs\\xff\\x00\\xc55~\\xadW\\xe5\\xcf\\xfc\\x11\\x83\\xc37\\x1f\\xda\\x7f\\x15|\\\\N!\\x10\\xe9\\x1al~\\xed\\xba\\xe6F\\xff\\x00\\xc7|\\xaf\\xfb\\xea\\xbfQ\\xab\\x96{\\x96\\x14QE@\\x05\\x14Q@\\x05\\x14Q@\\x05\\x14Q@\\x05\\x14Q@\\x05\\x14Q@\\x05\\x14Q@\\x05\\x14Q@\\x05\\x14Q@\\x05`\\xf8\\xdb\\xc2\\xd6\\x9e9\\xf0^\\xbb\\xe0\\xbdS\\x1fd\\xd7\\xf4\\xbb\\xad.\\xe7\\xfd\\xc9\\xe2h\\xdb\\xf4j\\xde\\xa2\\x80?\\x99m[F\\xd4\\xf4]B\\xfbA\\xd7-|\\xadKI\\xbb\\x96\\xc6\\xf2\\x1f\\xf9\\xe5q\\x14\\x8d\\x1c\\xab\\xff\\x00}+Ve\\xbf\\xfa\\xfa\\xfa;\\xfe\\n\\r\\xf0\\xec\\xfc3\\xfd\\xae\\xbc}\\xa5\\xc3jb\\xb2\\xd7\\xae\\xd7\\xc4\\xb6G\\xfez\\xad\\xe2\\xf9\\xb2\\xb7\\xfe\\x04\\xfd\\xa5\\x7f\\xe05\\xf3\\x8e\\xcf\\xb3\\\\WT\\x08&\\xbf\\xaf\\xd4_\\xf8\"\\xbf\\x87>\\xcf\\xe1\\xaf\\x8a~4#\\x8b\\xedCJ\\xd2#\\xff\\x00\\xb7x\\xa7\\x91\\xbf\\xf4\\xa5\\x7f\\xef\\x9a\\xfc\\xb7\\xbc\\x93\\xfdE~\\xc5\\xff\\x00\\xc1\\x1et\\x0b\\x9d7\\xf6d\\xd75\\xbb\\x85\\xe7]\\xf1\\x9d\\xec\\xd1{\\xc5\\x15\\xb5\\xb4\\x1f\\xfa\\x1cRR\\xaeY\\xee\\x7f\\xb7G\\x86\\xed\\xbcU\\xfb |Y\\xd3\\xee!\\xf3\\x16\\x0f\\r\\xdc\\xea\\x7f\\xf0;/\\xf4\\x94o\\xfb\\xea\\x05\\xaf\\xe7\\xef\\xcb\\xaf\\xe9;\\xe2\\xbe\\x8a\\xbe#\\xf8Y\\xe3\\x0f\\x0fO\\x04rG\\xaa\\xe8\\x17\\xf6RE!\\xf9H\\x92\\xdaE\\xdb\\xff\\x00\\x8fW\\xf3ci\\xfe\\xa2\\x0f\\xfa\\xe4\\x95\\x14@\\xb9q\\xfe\\xa2\\n-\\xa3\\xa6\\\\\\xff\\x00\\xcb\\n{\\xbf\\xd9\\xad\\xff\\x00\\xf4]nA\\xfbO\\xff\\x00\\x04\\xa6\\xf0/\\xfc\"\\x9f\\xb2\\x9d\\xb7\\x89f\\xb6\\xf2\\xe6\\xf1\\x9e\\xb7}\\xab\\x9f\\xfa\\xe2\\x8c\\xb6\\x91\\x7f\\xc0v\\xdbn\\xff\\x00\\x81\\xd7\\xd9\\x95\\xc2|\\x10\\xf0\\x0c?\\x0b>\\x10x\\'\\xe1\\xdc`\\x0f\\xf8F\\xb4\\x0b-6B?\\x8aX\\xa1U\\x91\\xbf\\xe0M\\xb9\\xbf\\x1a\\xee\\xeb\\x88\\xb0\\xa2\\x8a(\\x00\\xa2\\x8a(\\x00\\xa2\\x8a(\\x00\\xa2\\x8a(\\x00\\xa2\\x8a(\\x00\\xa2\\x8a(\\x00\\xa2\\x8a(\\x00\\xa2\\x8a(\\x00\\xa2\\x8a(\\x00\\xa2\\x8a(\\x03\\xf3\\xef\\xfe\\ns\\xfb\\x1c|J\\xf8\\xed\\xaax[\\xe2\\x8f\\xc1\\xff\\x00\\x0e\\xc5\\xacj\\x9aN\\x9fq\\xa4j\\xb6\\x89q\\x1cWRC\\xe6,\\xb6\\xad\\x12\\xc9\\xb5\\x19Q\\xda\\xe7\\x7f\\xcf\\xbf\\xf7\\xa9\\xb1_\\xf8\\x7f+\\xbcs\\xf0\\xd7\\xe2\\x1f\\xc3-[\\xfb\\'\\xc7\\xfe\\t\\xd6\\xf4\\x1b\\xcf\\xf9g\\x16\\xa9\\xa7\\xc9j\\xf2\\xff\\x00\\xb4\\xbej\\xa6\\xe5\\xff\\x00m+\\xfaU\\xac/\\x14\\xf8?\\xc2~9\\xd1\\xe7\\xf0\\xcf\\x8c\\xfc7\\xa5k\\xdad\\xe3\\xf7\\xb6Z\\x9d\\x9cwPI\\xfe\\xf4n\\xa5M\\\\\\'`?\\x9ao#\\xed\\x1f\\xea+\\xf7O\\xfe\\t\\xad\\xe1\\xeb\\x8f\\x0e~\\xc6\\x9e\\x00\\x82\\xf6\\xd8E5\\xff\\x00\\xf6\\x96\\xa5 \\xcf\\xf0\\xcb\\xa8\\\\4M\\xff\\x00~\\xbc\\xaa\\xedt?\\xd8\\xbf\\xf6X\\xf0\\xde\\xab\\x1e\\xbd\\xa4\\xfc\\n\\xf0\\xacw\\x90He\\x88\\xc9g\\xf6\\x84\\x89\\xff\\x00\\xbc\\x91\\xc9\\xb9\\x11\\xbf\\xddZ\\xf6\\xb4LQ:\\x97\\x03;^\\x80\\\\\\xe8w\\xf6\\xff\\x00\\xf3\\xf1k4\\x7f\\xf7\\xd25\\x7f3f\\xc6\\xe7N&\\xde\\xf6\\xdeX\\xe6\\xb7\\x89b\\x92\\'\\xf9<\\xb7\\xfe\\xeb\\x7f\\xb5_\\xd3\\xc5y\\x07\\xc4\\x8f\\xd97\\xf6s\\xf8\\xbb\\xab\\x9d\\x7f\\xe2\\'\\xc2_\\x0f\\xea\\x9a\\xb7\\xfc\\xb4\\xbfH\\xda\\xd6\\xea_\\xfa\\xe94\\x0c\\x8f\\'\\xfc\\x08\\x9a!;\\x01\\xfc\\xf4\\x7f\\xfb\\xaa\\xfa\\xd3\\xf6N\\xfd\\x83\\x7fh/\\x89^=\\xf0\\xaf\\x8f5\\xef\\x04\\x1d\\x0b\\xc1\\xfaV\\xb5\\xa6\\xeaW\\x92x\\x8f\\xcc\\xb0\\xfbu\\xacW1\\xc9$pG\\xb3\\xcd\\x95\\x9a5m\\x8f\\xb1\\x13\\xe6\\xfb\\xf5\\xfa\\xe1\\xf0\\xdf\\xf6b\\xfd\\x9f\\xbe\\x11\\\\\\rC\\xe1\\xd7\\xc2o\\rh\\xfa\\x80\\xff\\x00\\x98\\x84vk-\\xe7\\xfe\\x04K\\xba_\\xfcz\\xbdCo\\xbdS\\xa8\\x03\\xa8\\xa2\\x8a\\xc8\\x02\\x8a(\\xa0\\x02\\x8a(\\xa0\\x02\\x8a(\\xa0\\x02\\x8a(\\xa0\\x02\\x8a(\\xa0\\x02\\x8a(\\xa0\\x02\\x8a(\\xa0\\x02\\x8a(\\xa0\\x02\\x8a(\\xa0\\x02\\x8a(\\xa0\\x02\\x8a(\\xa0\\x02\\x8a(\\xa0\\x02\\x8a(\\xa0\\x02\\x8a(\\xa0\\x02\\x8a(\\xa0\\x02\\x8a(\\xa0\\x02\\x8a(\\xa0\\x02\\x8a(\\xa0\\x02\\x8a(\\xa0\\x02\\x8a(\\xa0\\x02\\x8a(\\xa0\\x02\\x8a(\\xa0\\x02\\x8a(\\xa0\\x02\\x8a(\\xa0\\x02\\x8a(\\xa0\\x02\\x8a(\\xa0\\x02\\x8a(\\xa0\\x02\\x8a(\\xa0\\x02\\x8a(\\xa0\\x02\\x8a(\\xa0\\x02\\x8a(\\xa0\\x02\\x8a(\\xa0\\x02\\x8a(\\xa0\\x02\\x8a(\\xa0\\x02\\x8a(\\xa0\\x02\\x8a(\\xa0\\x02\\x8a(\\xa0\\x02\\x8a(\\xa0\\x02\\x8a(\\xa0\\x02\\x8a(\\xa0\\x02\\x8a(\\xa0\\x02\\x8a(\\xa0\\x02\\x8a(\\xa0\\x02\\x8a(\\xa0\\x02\\x8a(\\xa0\\x02\\x8a(\\xa0\\x02\\x8a(\\xa0\\x02\\x8a(\\xa0\\x02\\x8a(\\xa0\\x02\\x8a(\\xa0\\x0f\\xff\\xd9'}"
            ]
          },
          "metadata": {},
          "execution_count": 96
        }
      ]
    },
    {
      "cell_type": "code",
      "source": [
        "load_and_predict('/content/jeans (2).jpg')"
      ],
      "metadata": {
        "colab": {
          "base_uri": "https://localhost:8080/",
          "height": 552
        },
        "id": "8ra3qQdmIQJp",
        "outputId": "e2c9b763-11ea-4d8f-96bd-716087e61b59"
      },
      "execution_count": null,
      "outputs": [
        {
          "output_type": "stream",
          "name": "stderr",
          "text": [
            "WARNING:tensorflow:6 out of the last 6 calls to <function TensorFlowTrainer.make_predict_function.<locals>.one_step_on_data_distributed at 0x7d3ade77e020> triggered tf.function retracing. Tracing is expensive and the excessive number of tracings could be due to (1) creating @tf.function repeatedly in a loop, (2) passing tensors with different shapes, (3) passing Python objects instead of tensors. For (1), please define your @tf.function outside of the loop. For (2), @tf.function has reduce_retracing=True option that can avoid unnecessary retracing. For (3), please refer to https://www.tensorflow.org/guide/function#controlling_retracing and https://www.tensorflow.org/api_docs/python/tf/function for  more details.\n"
          ]
        },
        {
          "output_type": "stream",
          "name": "stdout",
          "text": [
            "\u001b[1m1/1\u001b[0m \u001b[32m━━━━━━━━━━━━━━━━━━━━\u001b[0m\u001b[37m\u001b[0m \u001b[1m0s\u001b[0m 169ms/step\n",
            "[[3.5518743e-02 6.2757343e-01 8.9538908e-03 1.1166655e-01 1.0648498e-01\n",
            "  4.4843956e-04 8.2609214e-02 1.4273680e-04 2.6574057e-02 2.7970009e-05]]\n",
            "1\n",
            "0.62757343\n"
          ]
        },
        {
          "output_type": "display_data",
          "data": {
            "text/plain": [
              "<Figure size 640x480 with 1 Axes>"
            ],
            "image/png": "[encoded data removed]"
          },
          "metadata": {}
        }
      ]
    },
    {
      "cell_type": "code",
      "source": [],
      "metadata": {
        "id": "_LEL6U1SIn9_"
      },
      "execution_count": null,
      "outputs": []
    }
  ]
}